{
 "cells": [
  {
   "cell_type": "code",
   "execution_count": null,
   "id": "528f7e71",
   "metadata": {},
   "outputs": [],
   "source": [
    "import tensorflow as tf\n",
    "import os\n",
    "import numpy as np\n",
    "import seaborn as sns\n",
    "import matplotlib.pyplot as plt"
   ]
  },
  {
   "cell_type": "code",
   "execution_count": null,
   "id": "dc93603f",
   "metadata": {},
   "outputs": [],
   "source": [
    "\n",
    "from tensorflow.keras.preprocessing.image import ImageDataGenerator\n",
    "from tensorflow.keras.preprocessing.image import img_to_array\n",
    "from tensorflow.keras.preprocessing.image import load_img\n",
    "from tensorflow.keras import layers\n",
    "from tensorflow.keras.optimizers import Adam\n",
    "from tensorflow.keras.layers import Dropout\n",
    "from tensorflow.keras.layers import Flatten\n",
    "from tensorflow.keras.layers import Dense\n",
    "from tensorflow.keras.models import Model\n",
    "from tensorflow.keras.layers import AveragePooling2D\n",
    "from sklearn.model_selection import train_test_split\n",
    "from sklearn.metrics import classification_report\n",
    "from tensorflow.keras.applications.mobilenet_v2 import preprocess_input\n",
    "from tensorflow.keras.applications import MobileNetV2\n",
    "from sklearn.preprocessing import LabelBinarizer\n",
    "from tensorflow.keras.utils import to_categorical"
   ]
  },
  {
   "cell_type": "code",
   "execution_count": null,
   "id": "c4ef60bb",
   "metadata": {},
   "outputs": [],
   "source": [
    "Init_lr = 1e-4\n",
    "Batch_size = 32\n",
    "Channels = 3\n",
    "Epochs = 10"
   ]
  },
  {
   "cell_type": "code",
   "execution_count": null,
   "id": "5083bf69",
   "metadata": {},
   "outputs": [],
   "source": [
    "df = r'data/'\n",
    "Categories = ['with_mask', 'without_mask']"
   ]
  },
  {
   "cell_type": "code",
   "execution_count": null,
   "id": "de818ac1",
   "metadata": {},
   "outputs": [],
   "source": [
    "data = []\n",
    "label = []"
   ]
  },
  {
   "cell_type": "code",
   "execution_count": null,
   "id": "3c8e4678",
   "metadata": {},
   "outputs": [],
   "source": [
    "for category in Categories:\n",
    "    path = os.path.join(df, category)\n",
    "    for img in os.listdir(path):\n",
    "        img_path = os.path.join(path, img)\n",
    "        image = load_img(img_path, target_size=(224, 224))\n",
    "        image = img_to_array(image)\n",
    "        image = preprocess_input(image)\n",
    "        \n",
    "        data.append(image)\n",
    "        label.append(category)\n",
    "        "
   ]
  },
  {
   "cell_type": "code",
   "execution_count": null,
   "id": "db0d5eb2",
   "metadata": {},
   "outputs": [],
   "source": [
    "# perform one hot encoding\n",
    "lb = LabelBinarizer()\n",
    "label = lb.fit_transform(label)\n",
    "labels = to_categorical(label)"
   ]
  },
  {
   "cell_type": "code",
   "execution_count": null,
   "id": "1ff86e58",
   "metadata": {},
   "outputs": [],
   "source": [
    "data = np.array(data, dtype='float32')\n",
    "label = np.array(label)"
   ]
  },
  {
   "cell_type": "code",
   "execution_count": null,
   "id": "4d18118a",
   "metadata": {},
   "outputs": [],
   "source": [
    "xtrain, xtest, ytrain, ytest = train_test_split(data, labels, test_size=0.2, stratify=label, random_state=42)\n"
   ]
  },
  {
   "cell_type": "code",
   "execution_count": null,
   "id": "d4a8091c",
   "metadata": {},
   "outputs": [],
   "source": [
    "# data augmentation\n",
    "\n",
    "aug = ImageDataGenerator(\n",
    "    rotation_range=20,\n",
    "    zoom_range=0.15,\n",
    "    width_shift_range=0.2,\n",
    "    height_shift_range=0.2,\n",
    "    shear_range=0.15,\n",
    "    horizontal_flip=True,\n",
    "    fill_mode='nearest'\n",
    ")"
   ]
  },
  {
   "cell_type": "code",
   "execution_count": null,
   "id": "652c35ec",
   "metadata": {},
   "outputs": [],
   "source": [
    "# load the mobilenetv2, ensuring the head fully connected layer sets are\n",
    "# left off\n",
    "basemodel = MobileNetV2(weights='imagenet', include_top=False, input_tensor=layers.Input(shape=(224, 224, 3)))"
   ]
  },
  {
   "cell_type": "code",
   "execution_count": null,
   "id": "0a613663",
   "metadata": {},
   "outputs": [],
   "source": [
    "headmodel = basemodel.output\n",
    "headmodel = AveragePooling2D(pool_size=(7,7))(headmodel)\n",
    "headmodel = Flatten(name='flatten')(headmodel)\n",
    "headmodel = Dense(128, activation='relu',)(headmodel)\n",
    "headmodel = Dropout(0.5)(headmodel)\n",
    "headmodel = Dense(2, activation='softmax')(headmodel)"
   ]
  },
  {
   "cell_type": "code",
   "execution_count": null,
   "id": "f9feda0a",
   "metadata": {},
   "outputs": [],
   "source": [
    "#place the head FC model on top of the base model (this will become \n",
    "# the actual model we will train)\n",
    "model = Model(inputs = basemodel.input, outputs=headmodel)"
   ]
  },
  {
   "cell_type": "code",
   "execution_count": null,
   "id": "590bdd4d",
   "metadata": {},
   "outputs": [],
   "source": [
    "# loop over all layers int the base model and freeze them so they will \n",
    "# not be updated during the first training process\n",
    "for layer in basemodel.layers:\n",
    "    layer.trainable = False"
   ]
  },
  {
   "cell_type": "code",
   "execution_count": null,
   "id": "d8106c37",
   "metadata": {},
   "outputs": [],
   "source": [
    "# compile our model\n",
    "\n",
    "print('info compiling model .....')\n",
    "opt = Adam(learning_rate=Init_lr, decay=Init_lr / Epochs)\n",
    "model.compile(loss='binary_crossentropy', optimizer=opt, metrics=['accuracy'])"
   ]
  },
  {
   "cell_type": "code",
   "execution_count": null,
   "id": "ad4851c5",
   "metadata": {},
   "outputs": [],
   "source": [
    "print('Info training Head...')\n",
    "hist = model.fit(\n",
    "    aug.flow(xtrain, ytrain, batch_size=Batch_size),\n",
    "    steps_per_epoch=len(xtrain)//Batch_size,\n",
    "    validation_steps=len(xtest)//Batch_size,\n",
    "    epochs=Epochs\n",
    ")"
   ]
  },
  {
   "cell_type": "code",
   "execution_count": null,
   "id": "a4d6370d",
   "metadata": {},
   "outputs": [],
   "source": [
    "# make predictions on the testing set\n",
    "\n",
    "print('evaluating network...')\n",
    "predIdxs = model.predict(xtest, batch_size=Batch_size)"
   ]
  }
 ],
 "metadata": {
  "kernelspec": {
   "display_name": "Python 3 (ipykernel)",
   "language": "python",
   "name": "python3"
  },
  "language_info": {
   "codemirror_mode": {
    "name": "ipython",
    "version": 3
   },
   "file_extension": ".py",
   "mimetype": "text/x-python",
   "name": "python",
   "nbconvert_exporter": "python",
   "pygments_lexer": "ipython3",
   "version": "3.9.7"
  }
 },
 "nbformat": 4,
 "nbformat_minor": 5
}
