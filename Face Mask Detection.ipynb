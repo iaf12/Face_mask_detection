{
 "cells": [
  {
   "cell_type": "code",
   "execution_count": 1,
   "id": "528f7e71",
   "metadata": {},
   "outputs": [],
   "source": [
    "import tensorflow as tf\n",
    "import os\n",
    "import numpy as np\n",
    "import seaborn as sns\n",
    "import matplotlib.pyplot as plt"
   ]
  },
  {
   "cell_type": "code",
   "execution_count": 2,
   "id": "dc93603f",
   "metadata": {},
   "outputs": [],
   "source": [
    "\n",
    "from tensorflow.keras.preprocessing.image import ImageDataGenerator\n",
    "from tensorflow.keras.preprocessing.image import img_to_array\n",
    "from tensorflow.keras.preprocessing.image import load_img\n",
    "from tensorflow.keras import layers\n",
    "from tensorflow.keras.optimizers import Adam\n",
    "from tensorflow.keras.layers import Dropout\n",
    "from tensorflow.keras.layers import Flatten\n",
    "from tensorflow.keras.layers import Dense\n",
    "from tensorflow.keras.models import Model\n",
    "from tensorflow.keras.layers import AveragePooling2D\n",
    "from sklearn.model_selection import train_test_split\n",
    "from sklearn.metrics import classification_report\n",
    "from tensorflow.keras.applications.mobilenet_v2 import preprocess_input\n",
    "from tensorflow.keras.applications import MobileNetV2\n",
    "from sklearn.preprocessing import LabelBinarizer\n",
    "from tensorflow.keras.utils import to_categorical"
   ]
  },
  {
   "cell_type": "code",
   "execution_count": 3,
   "id": "c4ef60bb",
   "metadata": {},
   "outputs": [],
   "source": [
    "Init_lr = 1e-4\n",
    "Batch_size = 32\n",
    "Channels = 3\n",
    "Epochs = 10"
   ]
  },
  {
   "cell_type": "code",
   "execution_count": 4,
   "id": "5083bf69",
   "metadata": {},
   "outputs": [],
   "source": [
    "df = r'data/'\n",
    "Categories = ['with_mask', 'without_mask']"
   ]
  },
  {
   "cell_type": "code",
   "execution_count": 5,
   "id": "de818ac1",
   "metadata": {},
   "outputs": [],
   "source": [
    "data = []\n",
    "label = []"
   ]
  },
  {
   "cell_type": "code",
   "execution_count": 6,
   "id": "3c8e4678",
   "metadata": {},
   "outputs": [
    {
     "name": "stderr",
     "output_type": "stream",
     "text": [
      "F:\\Anaconda\\lib\\site-packages\\PIL\\Image.py:975: UserWarning: Palette images with Transparency expressed in bytes should be converted to RGBA images\n",
      "  warnings.warn(\n"
     ]
    }
   ],
   "source": [
    "for category in Categories:\n",
    "    path = os.path.join(df, category)\n",
    "    for img in os.listdir(path):\n",
    "        img_path = os.path.join(path, img)\n",
    "        image = load_img(img_path, target_size=(224, 224))\n",
    "        image = img_to_array(image)\n",
    "        image = preprocess_input(image)\n",
    "        \n",
    "        data.append(image)\n",
    "        label.append(category)\n",
    "        "
   ]
  },
  {
   "cell_type": "code",
   "execution_count": 7,
   "id": "db0d5eb2",
   "metadata": {},
   "outputs": [],
   "source": [
    "# perform one hot encoding\n",
    "lb = LabelBinarizer()\n",
    "label = lb.fit_transform(label)\n",
    "labels = to_categorical(label)"
   ]
  },
  {
   "cell_type": "code",
   "execution_count": 8,
   "id": "1ff86e58",
   "metadata": {},
   "outputs": [],
   "source": [
    "data = np.array(data, dtype='float32')\n",
    "label = np.array(label)"
   ]
  },
  {
   "cell_type": "code",
   "execution_count": 9,
   "id": "4d18118a",
   "metadata": {},
   "outputs": [],
   "source": [
    "xtrain, xtest, ytrain, ytest = train_test_split(data, labels, test_size=0.2, stratify=label, random_state=42)\n"
   ]
  },
  {
   "cell_type": "code",
   "execution_count": 10,
   "id": "d4a8091c",
   "metadata": {},
   "outputs": [],
   "source": [
    "# data augmentation\n",
    "\n",
    "aug = ImageDataGenerator(\n",
    "    rotation_range=20,\n",
    "    zoom_range=0.15,\n",
    "    width_shift_range=0.2,\n",
    "    height_shift_range=0.2,\n",
    "    shear_range=0.15,\n",
    "    horizontal_flip=True,\n",
    "    fill_mode='nearest'\n",
    ")"
   ]
  },
  {
   "cell_type": "code",
   "execution_count": 11,
   "id": "652c35ec",
   "metadata": {},
   "outputs": [
    {
     "name": "stdout",
     "output_type": "stream",
     "text": [
      "WARNING:tensorflow:`input_shape` is undefined or non-square, or `rows` is not in [96, 128, 160, 192, 224]. Weights for input shape (224, 224) will be loaded as the default.\n"
     ]
    }
   ],
   "source": [
    "# load the mobilenetv2, ensuring the head fully connected layer sets are\n",
    "# left off\n",
    "basemodel = MobileNetV2(weights='imagenet', include_top=False, input_tensor=layers.Input(shape=(224, 224, 3)))"
   ]
  },
  {
   "cell_type": "code",
   "execution_count": 12,
   "id": "0a613663",
   "metadata": {},
   "outputs": [],
   "source": [
    "headmodel = basemodel.output\n",
    "headmodel = AveragePooling2D(pool_size=(7,7))(headmodel)\n",
    "headmodel = Flatten(name='flatten')(headmodel)\n",
    "headmodel = Dense(128, activation='relu',)(headmodel)\n",
    "headmodel = Dropout(0.5)(headmodel)\n",
    "headmodel = Dense(2, activation='softmax')(headmodel)"
   ]
  },
  {
   "cell_type": "code",
   "execution_count": 13,
   "id": "f9feda0a",
   "metadata": {},
   "outputs": [],
   "source": [
    "#place the head FC model on top of the base model (this will become \n",
    "# the actual model we will train)\n",
    "model = Model(inputs = basemodel.input, outputs=headmodel)"
   ]
  },
  {
   "cell_type": "code",
   "execution_count": 14,
   "id": "590bdd4d",
   "metadata": {},
   "outputs": [],
   "source": [
    "# loop over all layers int the base model and freeze them so they will \n",
    "# not be updated during the first training process\n",
    "for layer in basemodel.layers:\n",
    "    layer.trainable = False"
   ]
  },
  {
   "cell_type": "code",
   "execution_count": 15,
   "id": "d8106c37",
   "metadata": {},
   "outputs": [
    {
     "name": "stdout",
     "output_type": "stream",
     "text": [
      "info compiling model .....\n"
     ]
    }
   ],
   "source": [
    "# compile our model\n",
    "\n",
    "print('info compiling model .....')\n",
    "opt = Adam(learning_rate=Init_lr, decay=Init_lr / Epochs)\n",
    "model.compile(loss='binary_crossentropy', optimizer=opt, metrics=['accuracy'])"
   ]
  },
  {
   "cell_type": "code",
   "execution_count": 16,
   "id": "ad4851c5",
   "metadata": {},
   "outputs": [
    {
     "name": "stdout",
     "output_type": "stream",
     "text": [
      "Info training Head...\n",
      "Epoch 1/10\n",
      "188/188 [==============================] - 177s 910ms/step - loss: 0.2749 - accuracy: 0.9050\n",
      "Epoch 2/10\n",
      "188/188 [==============================] - 139s 738ms/step - loss: 0.0891 - accuracy: 0.9740\n",
      "Epoch 3/10\n",
      "188/188 [==============================] - 133s 703ms/step - loss: 0.0617 - accuracy: 0.9827\n",
      "Epoch 4/10\n",
      "188/188 [==============================] - 131s 697ms/step - loss: 0.0517 - accuracy: 0.9855\n",
      "Epoch 5/10\n",
      "188/188 [==============================] - 131s 696ms/step - loss: 0.0481 - accuracy: 0.9860\n",
      "Epoch 6/10\n",
      "188/188 [==============================] - 118s 624ms/step - loss: 0.0468 - accuracy: 0.9837\n",
      "Epoch 7/10\n",
      "188/188 [==============================] - 144s 765ms/step - loss: 0.0431 - accuracy: 0.9864\n",
      "Epoch 8/10\n",
      "188/188 [==============================] - 116s 612ms/step - loss: 0.0378 - accuracy: 0.9884\n",
      "Epoch 9/10\n",
      "188/188 [==============================] - 110s 582ms/step - loss: 0.0334 - accuracy: 0.9908\n",
      "Epoch 10/10\n",
      "188/188 [==============================] - 133s 705ms/step - loss: 0.0356 - accuracy: 0.9895\n"
     ]
    }
   ],
   "source": [
    "print('Info training Head...')\n",
    "hist = model.fit(\n",
    "    aug.flow(xtrain, ytrain, batch_size=Batch_size),\n",
    "    steps_per_epoch=len(xtrain)//Batch_size,\n",
    "    validation_steps=len(xtest)//Batch_size,\n",
    "    epochs=Epochs\n",
    ")"
   ]
  },
  {
   "cell_type": "code",
   "execution_count": 18,
   "id": "a4d6370d",
   "metadata": {},
   "outputs": [
    {
     "name": "stdout",
     "output_type": "stream",
     "text": [
      "evaluating network...\n",
      "              precision    recall  f1-score   support\n",
      "\n",
      "   with_mask       0.98      0.99      0.99       745\n",
      "without_mask       0.99      0.98      0.99       766\n",
      "\n",
      "    accuracy                           0.99      1511\n",
      "   macro avg       0.99      0.99      0.99      1511\n",
      "weighted avg       0.99      0.99      0.99      1511\n",
      "\n"
     ]
    }
   ],
   "source": [
    "# make predictions on the testing set\n",
    "\n",
    "print('evaluating network...')\n",
    "predIdxs = model.predict(xtest, batch_size=Batch_size)\n",
    "predIdxs = np.argmax(predIdxs, axis=1)\n",
    "\n",
    "print(classification_report(ytest.argmax(axis=1), predIdxs, target_names=lb.classes_))"
   ]
  },
  {
   "cell_type": "code",
   "execution_count": 19,
   "id": "ae93e37f",
   "metadata": {},
   "outputs": [
    {
     "name": "stdout",
     "output_type": "stream",
     "text": [
      "info... saving mask detector model..\n"
     ]
    },
    {
     "name": "stderr",
     "output_type": "stream",
     "text": [
      "F:\\Anaconda\\lib\\site-packages\\keras\\engine\\functional.py:1410: CustomMaskWarning: Custom mask layers require a config and must override get_config. When loading, the custom mask layer must be passed to the custom_objects argument.\n",
      "  layer_config = serialize_layer_fn(layer)\n"
     ]
    }
   ],
   "source": [
    "print('info... saving mask detector model..')\n",
    "model.save('mask_detector.model', save_format='h5')"
   ]
  },
  {
   "cell_type": "code",
   "execution_count": 20,
   "id": "434d4afc",
   "metadata": {},
   "outputs": [
    {
     "name": "stderr",
     "output_type": "stream",
     "text": [
      "C:\\Users\\Asus\\AppData\\Local\\Temp/ipykernel_8780/2891508121.py:4: MatplotlibDeprecationWarning: Case-insensitive properties were deprecated in 3.3 and support will be removed two minor releases later\n",
      "  plt.plot(np.arange(0,N), hist.history['loss'], Label='train_loss')\n"
     ]
    },
    {
     "ename": "KeyError",
     "evalue": "'val_loss'",
     "output_type": "error",
     "traceback": [
      "\u001b[1;31m---------------------------------------------------------------------------\u001b[0m",
      "\u001b[1;31mKeyError\u001b[0m                                  Traceback (most recent call last)",
      "\u001b[1;32m~\\AppData\\Local\\Temp/ipykernel_8780/2891508121.py\u001b[0m in \u001b[0;36m<module>\u001b[1;34m\u001b[0m\n\u001b[0;32m      3\u001b[0m \u001b[0mplt\u001b[0m\u001b[1;33m.\u001b[0m\u001b[0mfigure\u001b[0m\u001b[1;33m(\u001b[0m\u001b[1;33m)\u001b[0m\u001b[1;33m\u001b[0m\u001b[1;33m\u001b[0m\u001b[0m\n\u001b[0;32m      4\u001b[0m \u001b[0mplt\u001b[0m\u001b[1;33m.\u001b[0m\u001b[0mplot\u001b[0m\u001b[1;33m(\u001b[0m\u001b[0mnp\u001b[0m\u001b[1;33m.\u001b[0m\u001b[0marange\u001b[0m\u001b[1;33m(\u001b[0m\u001b[1;36m0\u001b[0m\u001b[1;33m,\u001b[0m\u001b[0mN\u001b[0m\u001b[1;33m)\u001b[0m\u001b[1;33m,\u001b[0m \u001b[0mhist\u001b[0m\u001b[1;33m.\u001b[0m\u001b[0mhistory\u001b[0m\u001b[1;33m[\u001b[0m\u001b[1;34m'loss'\u001b[0m\u001b[1;33m]\u001b[0m\u001b[1;33m,\u001b[0m \u001b[0mLabel\u001b[0m\u001b[1;33m=\u001b[0m\u001b[1;34m'train_loss'\u001b[0m\u001b[1;33m)\u001b[0m\u001b[1;33m\u001b[0m\u001b[1;33m\u001b[0m\u001b[0m\n\u001b[1;32m----> 5\u001b[1;33m \u001b[0mplt\u001b[0m\u001b[1;33m.\u001b[0m\u001b[0mplot\u001b[0m\u001b[1;33m(\u001b[0m\u001b[0mnp\u001b[0m\u001b[1;33m.\u001b[0m\u001b[0marange\u001b[0m\u001b[1;33m(\u001b[0m\u001b[1;36m0\u001b[0m\u001b[1;33m,\u001b[0m\u001b[0mN\u001b[0m\u001b[1;33m)\u001b[0m\u001b[1;33m,\u001b[0m \u001b[0mhist\u001b[0m\u001b[1;33m.\u001b[0m\u001b[0mhistory\u001b[0m\u001b[1;33m[\u001b[0m\u001b[1;34m'val_loss'\u001b[0m\u001b[1;33m]\u001b[0m\u001b[1;33m,\u001b[0m \u001b[0mLabel\u001b[0m\u001b[1;33m=\u001b[0m\u001b[1;34m'val_loss'\u001b[0m\u001b[1;33m)\u001b[0m\u001b[1;33m\u001b[0m\u001b[1;33m\u001b[0m\u001b[0m\n\u001b[0m\u001b[0;32m      6\u001b[0m \u001b[0mplt\u001b[0m\u001b[1;33m.\u001b[0m\u001b[0mplot\u001b[0m\u001b[1;33m(\u001b[0m\u001b[0mnp\u001b[0m\u001b[1;33m.\u001b[0m\u001b[0marange\u001b[0m\u001b[1;33m(\u001b[0m\u001b[1;36m0\u001b[0m\u001b[1;33m,\u001b[0m\u001b[0mN\u001b[0m\u001b[1;33m)\u001b[0m\u001b[1;33m,\u001b[0m \u001b[0mhist\u001b[0m\u001b[1;33m.\u001b[0m\u001b[0mhistory\u001b[0m\u001b[1;33m[\u001b[0m\u001b[1;34m'train_acc'\u001b[0m\u001b[1;33m]\u001b[0m\u001b[1;33m,\u001b[0m \u001b[0mLabel\u001b[0m\u001b[1;33m=\u001b[0m\u001b[1;34m'train_acc'\u001b[0m\u001b[1;33m)\u001b[0m\u001b[1;33m\u001b[0m\u001b[1;33m\u001b[0m\u001b[0m\n\u001b[0;32m      7\u001b[0m \u001b[0mplt\u001b[0m\u001b[1;33m.\u001b[0m\u001b[0mplot\u001b[0m\u001b[1;33m(\u001b[0m\u001b[0mnp\u001b[0m\u001b[1;33m.\u001b[0m\u001b[0marange\u001b[0m\u001b[1;33m(\u001b[0m\u001b[1;36m0\u001b[0m\u001b[1;33m,\u001b[0m\u001b[0mN\u001b[0m\u001b[1;33m)\u001b[0m\u001b[1;33m,\u001b[0m \u001b[0mhist\u001b[0m\u001b[1;33m.\u001b[0m\u001b[0mhistory\u001b[0m\u001b[1;33m[\u001b[0m\u001b[1;34m'val_acc'\u001b[0m\u001b[1;33m]\u001b[0m\u001b[1;33m,\u001b[0m \u001b[0mLabel\u001b[0m\u001b[1;33m=\u001b[0m\u001b[1;34m'val_acc'\u001b[0m\u001b[1;33m)\u001b[0m\u001b[1;33m\u001b[0m\u001b[1;33m\u001b[0m\u001b[0m\n",
      "\u001b[1;31mKeyError\u001b[0m: 'val_loss'"
     ]
    },
    {
     "data": {
      "image/png": "[encoded data removed]",
      "text/plain": [
       "<Figure size 432x288 with 1 Axes>"
      ]
     },
     "metadata": {},
     "output_type": "display_data"
    }
   ],
   "source": [
    "N=Epochsochs\n",
    "plt.style.use('ggplot')\n",
    "plt.figure()\n",
    "plt.plot(np.arange(0,N), hist.history['loss'], Label='train_loss')\n",
    "plt.plot(np.arange(0,N), hist.history['val_loss'], Label='val_loss')\n",
    "plt.plot(np.arange(0,N), hist.history['train_acc'], Label='train_acc')\n",
    "plt.plot(np.arange(0,N), hist.history['val_acc'], Label='val_acc')\n",
    "plt.title('Training loss and accuracy')\n",
    "plt.xlabel('epoch')\n",
    "plt.ylabel('loss/accuracy')\n",
    "plt.legend(loc='lower left')\n",
    "plt.savefig(plot.png)"
   ]
  },
  {
   "cell_type": "code",
   "execution_count": null,
   "id": "0fc7a044",
   "metadata": {},
   "outputs": [],
   "source": []
  }
 ],
 "metadata": {
  "kernelspec": {
   "display_name": "Python 3 (ipykernel)",
   "language": "python",
   "name": "python3"
  },
  "language_info": {
   "codemirror_mode": {
    "name": "ipython",
    "version": 3
   },
   "file_extension": ".py",
   "mimetype": "text/x-python",
   "name": "python",
   "nbconvert_exporter": "python",
   "pygments_lexer": "ipython3",
   "version": "3.10.8"
  }
 },
 "nbformat": 4,
 "nbformat_minor": 5
}
